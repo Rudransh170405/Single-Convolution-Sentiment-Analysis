{
  "cells": [
    {
      "cell_type": "markdown",
      "metadata": {
        "id": "xGwgXXtkDVHZ"
      },
      "source": [
        "**Importing Necessary Libraries**"
      ]
    },
    {
      "cell_type": "code",
      "execution_count": 1,
      "metadata": {
        "id": "IS5i1F2djDWc"
      },
      "outputs": [],
      "source": [
        "import re\n",
        "import pandas as pd\n",
        "import numpy as np\n",
        "import nltk"
      ]
    },
    {
      "cell_type": "code",
      "execution_count": 2,
      "metadata": {
        "id": "Xh_K0xtjjFtV"
      },
      "outputs": [],
      "source": [
        "\n",
        "from nltk.corpus import stopwords"
      ]
    },
    {
      "cell_type": "markdown",
      "metadata": {
        "id": "Vr7la-PKDczh"
      },
      "source": [
        "**Fetching the data** (the data has been preprocessed already)\n",
        "\n",
        "Preprocessing steps include: \n",
        "1. Lemmatization\n",
        "2. Stop Word Removal\n",
        "3. Removing html tags and urls"
      ]
    },
    {
      "cell_type": "code",
      "execution_count": 3,
      "metadata": {
        "colab": {
          "base_uri": "https://localhost:8080/",
          "height": 74,
          "resources": {
            "http://localhost:8080/nbextensions/google.colab/files.js": {
              "data": "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",
              "headers": [
                [
                  "content-type",
                  "application/javascript"
                ]
              ],
              "ok": true,
              "status": 200,
              "status_text": ""
            }
          }
        },
        "id": "wnnYoLAdjJVk",
        "outputId": "f9f6df4e-3921-4494-94a8-cefdd3f95f63"
      },
      "outputs": [
        {
          "output_type": "display_data",
          "data": {
            "text/plain": [
              "<IPython.core.display.HTML object>"
            ],
            "text/html": [
              "\n",
              "     <input type=\"file\" id=\"files-5c3a9fd3-c301-4072-b197-7553c9597d37\" name=\"files[]\" multiple disabled\n",
              "        style=\"border:none\" />\n",
              "     <output id=\"result-5c3a9fd3-c301-4072-b197-7553c9597d37\">\n",
              "      Upload widget is only available when the cell has been executed in the\n",
              "      current browser session. Please rerun this cell to enable.\n",
              "      </output>\n",
              "      <script src=\"/nbextensions/google.colab/files.js\"></script> "
            ]
          },
          "metadata": {}
        },
        {
          "output_type": "stream",
          "name": "stdout",
          "text": [
            "Saving Final_data.csv to Final_data.csv\n"
          ]
        }
      ],
      "source": [
        "from google.colab import files\n",
        "data = files.upload()"
      ]
    },
    {
      "cell_type": "code",
      "execution_count": 4,
      "metadata": {
        "id": "QA7KIajOmfeQ"
      },
      "outputs": [],
      "source": [
        "data = pd.read_csv('Final_data.csv')"
      ]
    },
    {
      "cell_type": "markdown",
      "metadata": {
        "id": "NEVXNta9D55O"
      },
      "source": [
        "**Preparing the data**"
      ]
    },
    {
      "cell_type": "code",
      "execution_count": 5,
      "metadata": {
        "id": "Fqf2QscujQdU"
      },
      "outputs": [],
      "source": [
        "from sklearn.preprocessing import LabelEncoder\n",
        "from sklearn.model_selection import train_test_split"
      ]
    },
    {
      "cell_type": "code",
      "execution_count": 6,
      "metadata": {
        "id": "8tjynAdqjczN"
      },
      "outputs": [],
      "source": [
        "reviews = data['Reviews'].values\n",
        "labels = data['sentiment'].values\n",
        "encoder = LabelEncoder()\n",
        "encoded_labels = encoder.fit_transform(labels)"
      ]
    },
    {
      "cell_type": "code",
      "execution_count": 7,
      "metadata": {
        "id": "4qg0k7mKjc6G"
      },
      "outputs": [],
      "source": [
        "vocab = 10000\n",
        "max_length = 500\n",
        "embedding_dim = 50"
      ]
    },
    {
      "cell_type": "code",
      "execution_count": 8,
      "metadata": {
        "id": "dvjHCBEBjc8H"
      },
      "outputs": [],
      "source": [
        "from keras.preprocessing.text import Tokenizer\n",
        "from keras.preprocessing.sequence import pad_sequences"
      ]
    },
    {
      "cell_type": "code",
      "execution_count": 9,
      "metadata": {
        "id": "vG9f2q6Ejc-d"
      },
      "outputs": [],
      "source": [
        "tokenizer = Tokenizer(lower=False, split=' ', oov_token=None, filters='!\"#$%&()*+,-./:;=?@[\\\\]^_`{|}~\\t\\n')\n",
        "tokenizer.fit_on_texts(reviews)\n",
        "X_vocab = {\"<PAD>\":0}\n",
        "X_vocab.update(tokenizer.word_index)\n",
        "\n",
        "\n",
        "all_text2seq= tokenizer.texts_to_sequences(reviews)\n",
        "\n",
        "padded_seq = pad_sequences(all_text2seq,  maxlen=500, padding=\"post\", truncating=\"post\")"
      ]
    },
    {
      "cell_type": "code",
      "execution_count": 10,
      "metadata": {
        "id": "9WENItn4wZFF"
      },
      "outputs": [],
      "source": [
        "X_train, X_test, train_labels, test_labels = train_test_split(padded_seq, encoded_labels, stratify = encoded_labels)"
      ]
    },
    {
      "cell_type": "markdown",
      "metadata": {
        "id": "tiYezGhFEJxN"
      },
      "source": [
        "**Creating the model architecture**"
      ]
    },
    {
      "cell_type": "code",
      "execution_count": 11,
      "metadata": {
        "id": "uAdRNrd_jv8I"
      },
      "outputs": [],
      "source": [
        "import tensorflow as tf\n",
        "import keras\n"
      ]
    },
    {
      "cell_type": "code",
      "execution_count": 12,
      "metadata": {
        "id": "xT5ag73tjv-G"
      },
      "outputs": [],
      "source": [
        "lstm_model = keras.Sequential([\n",
        "    keras.layers.Embedding(len(X_vocab), embedding_dim, input_length=max_length),\n",
        "    keras.layers.Bidirectional(keras.layers.LSTM(16)),\n",
        "    keras.layers.Flatten(),\n",
        "    keras.layers.Dense(100, activation='relu'),\n",
        "    keras.layers.Dense(1, activation='sigmoid')\n",
        "])\n"
      ]
    },
    {
      "cell_type": "code",
      "execution_count": 13,
      "metadata": {
        "colab": {
          "base_uri": "https://localhost:8080/",
          "height": 644
        },
        "id": "M4huCJQZZVFb",
        "outputId": "917e63dc-ea9c-4400-ee31-0fe424e15013"
      },
      "outputs": [
        {
          "output_type": "execute_result",
          "data": {
            "text/plain": [
              "<IPython.core.display.Image object>"
            ],
            "image/png": "[encoded data removed]"
          },
          "metadata": {},
          "execution_count": 13
        }
      ],
      "source": [
        "tf.keras.utils.plot_model(\n",
        "    lstm_model,\n",
        "    to_file=\"lstm_model.png\",\n",
        "    show_shapes=True,\n",
        "    show_dtype=False,\n",
        "    show_layer_names=True,\n",
        "    rankdir=\"TB\",\n",
        "    expand_nested=False,\n",
        "    dpi=96,\n",
        "    layer_range=None,\n",
        "    show_layer_activations=False,\n",
        ")"
      ]
    },
    {
      "cell_type": "code",
      "execution_count": 14,
      "metadata": {
        "id": "cG6qLnWkjwBf"
      },
      "outputs": [],
      "source": [
        "\n",
        "lstm_model.compile(loss='binary_crossentropy',\n",
        "              optimizer='rmsprop',\n",
        "              metrics=['accuracy'])"
      ]
    },
    {
      "cell_type": "code",
      "execution_count": 15,
      "metadata": {
        "colab": {
          "base_uri": "https://localhost:8080/"
        },
        "id": "7GOlJ9TRlNNB",
        "outputId": "f1412d24-7c32-4669-9205-0c4e0048518d"
      },
      "outputs": [
        {
          "output_type": "stream",
          "name": "stdout",
          "text": [
            "Model: \"sequential\"\n",
            "_________________________________________________________________\n",
            " Layer (type)                Output Shape              Param #   \n",
            "=================================================================\n",
            " embedding (Embedding)       (None, 500, 50)           4577900   \n",
            "                                                                 \n",
            " bidirectional (Bidirectiona  (None, 32)               8576      \n",
            " l)                                                              \n",
            "                                                                 \n",
            " flatten (Flatten)           (None, 32)                0         \n",
            "                                                                 \n",
            " dense (Dense)               (None, 100)               3300      \n",
            "                                                                 \n",
            " dense_1 (Dense)             (None, 1)                 101       \n",
            "                                                                 \n",
            "=================================================================\n",
            "Total params: 4,589,877\n",
            "Trainable params: 4,589,877\n",
            "Non-trainable params: 0\n",
            "_________________________________________________________________\n"
          ]
        }
      ],
      "source": [
        "lstm_model.summary()\n"
      ]
    },
    {
      "cell_type": "markdown",
      "metadata": {
        "id": "I-80ItP0EaEg"
      },
      "source": [
        "**Training**"
      ]
    },
    {
      "cell_type": "code",
      "execution_count": 16,
      "metadata": {
        "id": "lRa--Gn1ps_d"
      },
      "outputs": [],
      "source": [
        "import h5py"
      ]
    },
    {
      "cell_type": "code",
      "execution_count": 17,
      "metadata": {
        "id": "VA6vB96TpEHG"
      },
      "outputs": [],
      "source": [
        "from keras.callbacks import EarlyStopping, ModelCheckpoint"
      ]
    },
    {
      "cell_type": "code",
      "execution_count": 18,
      "metadata": {
        "id": "831plXyapE_C"
      },
      "outputs": [],
      "source": [
        "es = EarlyStopping(monitor='val_loss', mode='min', verbose=1, patience = 200)\n",
        "mcp = ModelCheckpoint('best_model.h5', monitor='val_accuracy', mode='max', verbose=1, save_best_only=True) "
      ]
    },
    {
      "cell_type": "code",
      "execution_count": 19,
      "metadata": {
        "colab": {
          "base_uri": "https://localhost:8080/"
        },
        "id": "sfvCraV5lYE8",
        "outputId": "e725ee54-6bfa-40a2-a3fa-002de53e2286"
      },
      "outputs": [
        {
          "output_type": "stream",
          "name": "stdout",
          "text": [
            "Epoch 1/20\n",
            "1172/1172 [==============================] - ETA: 0s - loss: 0.3487 - accuracy: 0.8479\n",
            "Epoch 1: val_accuracy improved from -inf to 0.87712, saving model to best_model.h5\n",
            "1172/1172 [==============================] - 260s 219ms/step - loss: 0.3487 - accuracy: 0.8479 - val_loss: 0.3199 - val_accuracy: 0.8771\n",
            "Epoch 2/20\n",
            "1172/1172 [==============================] - ETA: 0s - loss: 0.2189 - accuracy: 0.9184\n",
            "Epoch 2: val_accuracy improved from 0.87712 to 0.89328, saving model to best_model.h5\n",
            "1172/1172 [==============================] - 258s 220ms/step - loss: 0.2189 - accuracy: 0.9184 - val_loss: 0.2686 - val_accuracy: 0.8933\n",
            "Epoch 3/20\n",
            "1172/1172 [==============================] - ETA: 0s - loss: 0.1835 - accuracy: 0.9328\n",
            "Epoch 3: val_accuracy did not improve from 0.89328\n",
            "1172/1172 [==============================] - 259s 221ms/step - loss: 0.1835 - accuracy: 0.9328 - val_loss: 0.4255 - val_accuracy: 0.8680\n",
            "Epoch 4/20\n",
            "1172/1172 [==============================] - ETA: 0s - loss: 0.1582 - accuracy: 0.9435\n",
            "Epoch 4: val_accuracy improved from 0.89328 to 0.89552, saving model to best_model.h5\n",
            "1172/1172 [==============================] - 265s 226ms/step - loss: 0.1582 - accuracy: 0.9435 - val_loss: 0.2648 - val_accuracy: 0.8955\n",
            "Epoch 5/20\n",
            "1172/1172 [==============================] - ETA: 0s - loss: 0.1354 - accuracy: 0.9522\n",
            "Epoch 5: val_accuracy did not improve from 0.89552\n",
            "1172/1172 [==============================] - 257s 220ms/step - loss: 0.1354 - accuracy: 0.9522 - val_loss: 0.2971 - val_accuracy: 0.8882\n",
            "Epoch 6/20\n",
            "1172/1172 [==============================] - ETA: 0s - loss: 0.1164 - accuracy: 0.9595\n",
            "Epoch 6: val_accuracy did not improve from 0.89552\n",
            "1172/1172 [==============================] - 257s 219ms/step - loss: 0.1164 - accuracy: 0.9595 - val_loss: 0.3059 - val_accuracy: 0.8771\n",
            "Epoch 7/20\n",
            "1172/1172 [==============================] - ETA: 0s - loss: 0.0998 - accuracy: 0.9653\n",
            "Epoch 7: val_accuracy did not improve from 0.89552\n",
            "1172/1172 [==============================] - 258s 220ms/step - loss: 0.0998 - accuracy: 0.9653 - val_loss: 0.3255 - val_accuracy: 0.8899\n",
            "Epoch 8/20\n",
            "1172/1172 [==============================] - ETA: 0s - loss: 0.0837 - accuracy: 0.9719\n",
            "Epoch 8: val_accuracy did not improve from 0.89552\n",
            "1172/1172 [==============================] - 259s 221ms/step - loss: 0.0837 - accuracy: 0.9719 - val_loss: 0.3358 - val_accuracy: 0.8883\n",
            "Epoch 9/20\n",
            "1172/1172 [==============================] - ETA: 0s - loss: 0.0662 - accuracy: 0.9789\n",
            "Epoch 9: val_accuracy did not improve from 0.89552\n",
            "1172/1172 [==============================] - 260s 222ms/step - loss: 0.0662 - accuracy: 0.9789 - val_loss: 0.3517 - val_accuracy: 0.8885\n",
            "Epoch 10/20\n",
            "1172/1172 [==============================] - ETA: 0s - loss: 0.0548 - accuracy: 0.9830\n",
            "Epoch 10: val_accuracy did not improve from 0.89552\n",
            "1172/1172 [==============================] - 259s 221ms/step - loss: 0.0548 - accuracy: 0.9830 - val_loss: 0.5193 - val_accuracy: 0.8662\n",
            "Epoch 11/20\n",
            "1172/1172 [==============================] - ETA: 0s - loss: 0.0454 - accuracy: 0.9857\n",
            "Epoch 11: val_accuracy did not improve from 0.89552\n",
            "1172/1172 [==============================] - 257s 220ms/step - loss: 0.0454 - accuracy: 0.9857 - val_loss: 0.5734 - val_accuracy: 0.8736\n",
            "Epoch 12/20\n",
            "1172/1172 [==============================] - ETA: 0s - loss: 0.0354 - accuracy: 0.9895\n",
            "Epoch 12: val_accuracy did not improve from 0.89552\n",
            "1172/1172 [==============================] - 256s 218ms/step - loss: 0.0354 - accuracy: 0.9895 - val_loss: 0.4915 - val_accuracy: 0.8784\n",
            "Epoch 13/20\n",
            "1172/1172 [==============================] - ETA: 0s - loss: 0.0291 - accuracy: 0.9917\n",
            "Epoch 13: val_accuracy did not improve from 0.89552\n",
            "1172/1172 [==============================] - 258s 220ms/step - loss: 0.0291 - accuracy: 0.9917 - val_loss: 0.5465 - val_accuracy: 0.8659\n",
            "Epoch 14/20\n",
            "1172/1172 [==============================] - ETA: 0s - loss: 0.0231 - accuracy: 0.9937\n",
            "Epoch 14: val_accuracy did not improve from 0.89552\n",
            "1172/1172 [==============================] - 257s 219ms/step - loss: 0.0231 - accuracy: 0.9937 - val_loss: 0.5833 - val_accuracy: 0.8618\n",
            "Epoch 15/20\n",
            "1172/1172 [==============================] - ETA: 0s - loss: 0.0168 - accuracy: 0.9951\n",
            "Epoch 15: val_accuracy did not improve from 0.89552\n",
            "1172/1172 [==============================] - 261s 223ms/step - loss: 0.0168 - accuracy: 0.9951 - val_loss: 0.6969 - val_accuracy: 0.8667\n",
            "Epoch 16/20\n",
            "1172/1172 [==============================] - ETA: 0s - loss: 0.0147 - accuracy: 0.9958\n",
            "Epoch 16: val_accuracy did not improve from 0.89552\n",
            "1172/1172 [==============================] - 262s 224ms/step - loss: 0.0147 - accuracy: 0.9958 - val_loss: 0.6578 - val_accuracy: 0.8512\n",
            "Epoch 17/20\n",
            "1172/1172 [==============================] - ETA: 0s - loss: 0.0118 - accuracy: 0.9966\n",
            "Epoch 17: val_accuracy did not improve from 0.89552\n",
            "1172/1172 [==============================] - 260s 222ms/step - loss: 0.0118 - accuracy: 0.9966 - val_loss: 0.9231 - val_accuracy: 0.8632\n",
            "Epoch 18/20\n",
            "1172/1172 [==============================] - ETA: 0s - loss: 0.0107 - accuracy: 0.9975\n",
            "Epoch 18: val_accuracy did not improve from 0.89552\n",
            "1172/1172 [==============================] - 262s 224ms/step - loss: 0.0107 - accuracy: 0.9975 - val_loss: 0.7739 - val_accuracy: 0.8568\n",
            "Epoch 19/20\n",
            "1172/1172 [==============================] - ETA: 0s - loss: 0.0076 - accuracy: 0.9980\n",
            "Epoch 19: val_accuracy did not improve from 0.89552\n",
            "1172/1172 [==============================] - 263s 224ms/step - loss: 0.0076 - accuracy: 0.9980 - val_loss: 0.8234 - val_accuracy: 0.8490\n",
            "Epoch 20/20\n",
            "1172/1172 [==============================] - ETA: 0s - loss: 0.0066 - accuracy: 0.9984\n",
            "Epoch 20: val_accuracy did not improve from 0.89552\n",
            "1172/1172 [==============================] - 263s 225ms/step - loss: 0.0066 - accuracy: 0.9984 - val_loss: 0.9389 - val_accuracy: 0.8666\n"
          ]
        }
      ],
      "source": [
        "num_epochs = 20\n",
        "history = lstm_model.fit(X_train, train_labels, \n",
        "                    epochs=num_epochs, validation_data = ([X_test[:6250]], [test_labels[:6250]]), callbacks = [es,mcp])"
      ]
    },
    {
      "cell_type": "markdown",
      "metadata": {
        "id": "CCgqrIS5EeBk"
      },
      "source": [
        "**Learning Curves**"
      ]
    },
    {
      "cell_type": "code",
      "execution_count": 20,
      "metadata": {
        "colab": {
          "base_uri": "https://localhost:8080/",
          "height": 265
        },
        "id": "jNOiSzUYlYG8",
        "outputId": "73b5e4ce-6009-4dc2-e4bd-0b80ca6f35e6"
      },
      "outputs": [
        {
          "output_type": "display_data",
          "data": {
            "text/plain": [
              "<Figure size 432x288 with 1 Axes>"
            ],
            "image/png": "[encoded data removed]"
          },
          "metadata": {
            "needs_background": "light"
          }
        }
      ],
      "source": [
        "import matplotlib.pyplot as plt\n",
        "\n",
        "plt.plot(history.history['loss'], label='training_loss')\n",
        "plt.plot(history.history['val_loss'], label='validation_loss')\n",
        "plt.legend()\n",
        "plt.show()"
      ]
    },
    {
      "cell_type": "markdown",
      "metadata": {
        "id": "jc_0ucwmEhKm"
      },
      "source": [
        "**Predictions on the test data (unseen data)**"
      ]
    },
    {
      "cell_type": "code",
      "execution_count": 21,
      "metadata": {
        "id": "jPr8x-RsqvqE"
      },
      "outputs": [],
      "source": [
        "from keras.models import load_model"
      ]
    },
    {
      "cell_type": "code",
      "execution_count": 22,
      "metadata": {
        "id": "g-HO2V3zjc1O"
      },
      "outputs": [],
      "source": [
        "from sklearn.metrics import classification_report\n",
        "from sklearn.metrics import accuracy_score\n",
        "from sklearn.metrics import fbeta_score, f1_score"
      ]
    },
    {
      "cell_type": "code",
      "execution_count": 23,
      "metadata": {
        "id": "u7oCzI9llYKV"
      },
      "outputs": [],
      "source": [
        "# load the saved model (best model)\n",
        "saved_model = load_model('best_model.h5')"
      ]
    },
    {
      "cell_type": "code",
      "execution_count": 24,
      "metadata": {
        "colab": {
          "base_uri": "https://localhost:8080/"
        },
        "id": "8TL86QrKmFbK",
        "outputId": "db6abe78-3cbe-4220-e23c-a673d161ee5f"
      },
      "outputs": [
        {
          "output_type": "stream",
          "name": "stdout",
          "text": [
            "Accuracy of prediction on test set :  0.89136\n"
          ]
        }
      ],
      "source": [
        "prediction = saved_model.predict(X_test[6250:])\n",
        "pred_labels = []\n",
        "for i in prediction:\n",
        "    if i >= 0.5:\n",
        "        pred_labels.append(1)\n",
        "    else:\n",
        "        pred_labels.append(0)\n",
        "print(\"Accuracy of prediction on test set : \", accuracy_score(test_labels[6250:],pred_labels))\n"
      ]
    },
    {
      "cell_type": "code",
      "execution_count": 25,
      "metadata": {
        "colab": {
          "base_uri": "https://localhost:8080/"
        },
        "id": "mEPgThw3mFjR",
        "outputId": "f73bbf6a-0d28-4457-d45b-236933baaa0d"
      },
      "outputs": [
        {
          "output_type": "stream",
          "name": "stdout",
          "text": [
            "              precision    recall  f1-score   support\n",
            "\n",
            "           0       0.89      0.89      0.89      3114\n",
            "           1       0.89      0.89      0.89      3136\n",
            "\n",
            "    accuracy                           0.89      6250\n",
            "   macro avg       0.89      0.89      0.89      6250\n",
            "weighted avg       0.89      0.89      0.89      6250\n",
            "\n"
          ]
        }
      ],
      "source": [
        "print(classification_report(test_labels[6250:],pred_labels))"
      ]
    },
    {
      "cell_type": "code",
      "execution_count": 26,
      "metadata": {
        "colab": {
          "base_uri": "https://localhost:8080/"
        },
        "id": "8NWW0De3mFs6",
        "outputId": "3f85297b-ed0d-482e-e9a5-90f254ed9711"
      },
      "outputs": [
        {
          "output_type": "execute_result",
          "data": {
            "text/plain": [
              "0.8902010852218321"
            ]
          },
          "metadata": {},
          "execution_count": 26
        }
      ],
      "source": [
        "f = fbeta_score(test_labels[6250:],pred_labels, beta=2)\n",
        "f"
      ]
    },
    {
      "cell_type": "code",
      "execution_count": 27,
      "metadata": {
        "id": "W763gub8_mW4"
      },
      "outputs": [],
      "source": [
        "from sklearn.metrics import confusion_matrix\n",
        "import seaborn as sns"
      ]
    },
    {
      "cell_type": "code",
      "execution_count": 28,
      "metadata": {
        "colab": {
          "base_uri": "https://localhost:8080/"
        },
        "id": "GLkX9XrwmFdJ",
        "outputId": "bc969ac4-049b-4912-b591-d0505534d558"
      },
      "outputs": [
        {
          "output_type": "stream",
          "name": "stdout",
          "text": [
            "[[2782  332]\n",
            " [ 347 2789]]\n"
          ]
        }
      ],
      "source": [
        "cf_matrix = confusion_matrix(test_labels[6250:], pred_labels)\n",
        "print(cf_matrix)"
      ]
    },
    {
      "cell_type": "code",
      "execution_count": 29,
      "metadata": {
        "colab": {
          "base_uri": "https://localhost:8080/",
          "height": 337
        },
        "id": "ZMbzQedHmFfs",
        "outputId": "1aa33df5-5d25-4455-a51b-09db16b1ca45"
      },
      "outputs": [
        {
          "output_type": "execute_result",
          "data": {
            "text/plain": [
              "<matplotlib.axes._subplots.AxesSubplot at 0x7f9f43440710>"
            ]
          },
          "metadata": {},
          "execution_count": 29
        },
        {
          "output_type": "display_data",
          "data": {
            "text/plain": [
              "<Figure size 360x360 with 2 Axes>"
            ],
            "image/png": "[encoded data removed]"
          },
          "metadata": {
            "needs_background": "light"
          }
        }
      ],
      "source": [
        "group_names = ['True Neg','False Pos','False Neg','True Pos']\n",
        "group_counts = [\"{0:0.0f}\".format(value) for value in cf_matrix.flatten()]\n",
        "group_percentages = [\"{0:.2%}\".format(value) for value in cf_matrix.flatten()/np.sum(cf_matrix)]\n",
        "labels = [f\"{v1}\\n{v2}\\n{v3}\" for v1, v2, v3 in zip(group_names,group_counts,group_percentages)]\n",
        "labels = np.asarray(labels).reshape(2,2)\n",
        "\n",
        "f = plt.figure()\n",
        "f.set_figwidth(5)\n",
        "f.set_figheight(5)\n",
        "\n",
        "\n",
        "sns.heatmap(cf_matrix, annot=labels, fmt='', cmap='Blues')"
      ]
    },
    {
      "cell_type": "code",
      "execution_count": 30,
      "metadata": {
        "id": "tPx_8oQEC1lu"
      },
      "outputs": [],
      "source": [
        "from sklearn.metrics import roc_auc_score"
      ]
    },
    {
      "cell_type": "code",
      "execution_count": 31,
      "metadata": {
        "colab": {
          "base_uri": "https://localhost:8080/"
        },
        "id": "Dr3w6TmWC6E5",
        "outputId": "e153f1c3-e09e-47ff-e1a4-26030080846d"
      },
      "outputs": [
        {
          "output_type": "execute_result",
          "data": {
            "text/plain": [
              "0.8913671019949405"
            ]
          },
          "metadata": {},
          "execution_count": 31
        }
      ],
      "source": [
        "roc_score = roc_auc_score(test_labels[6250:],pred_labels)\n",
        "roc_score"
      ]
    },
    {
      "cell_type": "code",
      "execution_count": null,
      "metadata": {
        "id": "45qS2U6iDG7I"
      },
      "outputs": [],
      "source": [
        ""
      ]
    }
  ],
  "metadata": {
    "colab": {
      "collapsed_sections": [],
      "name": "lstm_model.ipynb",
      "provenance": [],
      "authorship_tag": "ABX9TyMC8ihcYIT6OOtal1A7KYox"
    },
    "gpuClass": "standard",
    "kernelspec": {
      "display_name": "Python 3",
      "name": "python3"
    },
    "language_info": {
      "name": "python"
    }
  },
  "nbformat": 4,
  "nbformat_minor": 0
}